{
  "nbformat": 4,
  "nbformat_minor": 0,
  "metadata": {
    "colab": {
      "provenance": [],
      "authorship_tag": "ABX9TyM0gUJfEMkCYniPeg/A+9Ix",
      "include_colab_link": true
    },
    "kernelspec": {
      "name": "python3",
      "display_name": "Python 3"
    },
    "language_info": {
      "name": "python"
    }
  },
  "cells": [
    {
      "cell_type": "markdown",
      "metadata": {
        "id": "view-in-github",
        "colab_type": "text"
      },
      "source": [
        "<a href=\"https://colab.research.google.com/github/bijayan/AI-Lab-Assignments/blob/main/WaterJugProblem.ipynb\" target=\"_parent\"><img src=\"https://colab.research.google.com/assets/colab-badge.svg\" alt=\"Open In Colab\"/></a>"
      ]
    },
    {
      "cell_type": "code",
      "execution_count": 1,
      "metadata": {
        "colab": {
          "base_uri": "https://localhost:8080/"
        },
        "id": "-sb1NQepT2ck",
        "outputId": "c75c2df5-c9cd-486f-e4a5-49b2edebebf6"
      },
      "outputs": [
        {
          "output_type": "stream",
          "name": "stdout",
          "text": [
            "BFS Solution Path: [(0, 0), (4, 0), (1, 3), (1, 0), (0, 1), (4, 1), (2, 3)]\n",
            "DFS Solution Path: [(0, 0), (0, 3), (3, 0), (3, 3), (4, 2), (0, 2), (2, 0)]\n"
          ]
        }
      ],
      "source": [
        "from collections import deque\n",
        "\n",
        "class WaterJug:\n",
        "    def __init__(self, capacity1, capacity2, goal):\n",
        "        self.capacity1 = capacity1  # Capacity of the 4-liter jug\n",
        "        self.capacity2 = capacity2  # Capacity of the 3-liter jug\n",
        "        self.goal = goal  # Goal state (e.g., 2 liters in the 4-liter jug)\n",
        "        self.initial_state = (0, 0)  # Both jugs are initially empty\n",
        "\n",
        "    def goalTest(self, current_state):\n",
        "        return current_state[0] == self.goal  # Checking if the 4-liter jug has the goal amount\n",
        "\n",
        "    def successor(self, state):\n",
        "        # Generating possible next states based on actions:\n",
        "        successors = []\n",
        "        # State is (x, y) where x is the 4-liter jug, and y is the 3-liter jug\n",
        "\n",
        "        x, y = state\n",
        "\n",
        "        # 1. Fill the 4-liter jug\n",
        "        if x < self.capacity1:\n",
        "            successors.append((self.capacity1, y))\n",
        "\n",
        "        # 2. Fill the 3-liter jug\n",
        "        if y < self.capacity2:\n",
        "            successors.append((x, self.capacity2))\n",
        "\n",
        "        # 3. Empty the 4-liter jug\n",
        "        if x > 0:\n",
        "            successors.append((0, y))\n",
        "\n",
        "        # 4. Empty the 3-liter jug\n",
        "        if y > 0:\n",
        "            successors.append((x, 0))\n",
        "\n",
        "        # 5. Pour from the 4-liter jug into the 3-liter jug\n",
        "        if x > 0 and y < self.capacity2:\n",
        "            transfer = min(x, self.capacity2 - y)\n",
        "            successors.append((x - transfer, y + transfer))\n",
        "\n",
        "        # 6. Pour from the 3-liter jug into the 4-liter jug\n",
        "        if y > 0 and x < self.capacity1:\n",
        "            transfer = min(y, self.capacity1 - x)\n",
        "            successors.append((x + transfer, y - transfer))\n",
        "\n",
        "        return successors\n",
        "\n",
        "    def bfs(self):\n",
        "        # BFS implementation to find the shortest path to the goal\n",
        "        queue = deque([(self.initial_state, [])])  # Queue of (state, path)\n",
        "        visited = set()  # Set to track visited states\n",
        "        visited.add(self.initial_state)\n",
        "\n",
        "        while queue:\n",
        "            current_state, path = queue.popleft()\n",
        "\n",
        "            # If goal state is reached, return the path\n",
        "            if self.goalTest(current_state):\n",
        "                return path + [current_state]\n",
        "\n",
        "            # Explore successors\n",
        "            for successor in self.successor(current_state):\n",
        "                if successor not in visited:\n",
        "                    visited.add(successor)\n",
        "                    queue.append((successor, path + [current_state]))\n",
        "\n",
        "        return None  # No solution found\n",
        "\n",
        "    def dfs(self):\n",
        "        # DFS implementation to find a solution\n",
        "        stack = [(self.initial_state, [])]  # Stack of (state, path)\n",
        "        visited = set()  # Set to track visited states\n",
        "        visited.add(self.initial_state)\n",
        "\n",
        "        while stack:\n",
        "            current_state, path = stack.pop()\n",
        "\n",
        "            # If goal state is reached, return the path\n",
        "            if self.goalTest(current_state):\n",
        "                return path + [current_state]\n",
        "\n",
        "            # Explore successors\n",
        "            for successor in self.successor(current_state):\n",
        "                if successor not in visited:\n",
        "                    visited.add(successor)\n",
        "                    stack.append((successor, path + [current_state]))\n",
        "\n",
        "        return None  # No solution found\n",
        "\n",
        "# Create an instance of the WaterJug class\n",
        "water_jug = WaterJug(4, 3, 2)  # 4-liter jug, 3-liter jug, goal is to get 2 liters in the 4-liter jug\n",
        "\n",
        "# Test BFS algorithm\n",
        "bfs_solution = water_jug.bfs()\n",
        "print(\"BFS Solution Path:\", bfs_solution)\n",
        "\n",
        "# Test DFS algorithm\n",
        "dfs_solution = water_jug.dfs()\n",
        "print(\"DFS Solution Path:\", dfs_solution)\n"
      ]
    }
  ]
}