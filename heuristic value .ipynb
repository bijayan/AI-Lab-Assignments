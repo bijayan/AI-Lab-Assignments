{
  "nbformat": 4,
  "nbformat_minor": 0,
  "metadata": {
    "colab": {
      "provenance": [],
      "authorship_tag": "ABX9TyPby35v/UBixsImIH33Gu1V",
      "include_colab_link": true
    },
    "kernelspec": {
      "name": "python3",
      "display_name": "Python 3"
    },
    "language_info": {
      "name": "python"
    }
  },
  "cells": [
    {
      "cell_type": "markdown",
      "metadata": {
        "id": "view-in-github",
        "colab_type": "text"
      },
      "source": [
        "<a href=\"https://colab.research.google.com/github/bijayan/AI-Lab-Assignments/blob/main/heuristic%20value%20.ipynb\" target=\"_parent\"><img src=\"https://colab.research.google.com/assets/colab-badge.svg\" alt=\"Open In Colab\"/></a>"
      ]
    },
    {
      "cell_type": "code",
      "execution_count": 1,
      "metadata": {
        "colab": {
          "base_uri": "https://localhost:8080/"
        },
        "id": "2cc6-TvAAKIA",
        "outputId": "341b5711-2933-4539-fc7b-94bed463a506"
      },
      "outputs": [
        {
          "output_type": "stream",
          "name": "stdout",
          "text": [
            "Heuristic value of the given states: -10\n"
          ]
        }
      ],
      "source": [
        "def calculate_heuristic(start, goal):\n",
        "    \"\"\"\n",
        "    Calculate the heuristic value of the states for the Blocks World Problem.\n",
        "\n",
        "    :param start: List representing the start state (e.g., ['A', 'D', 'C', 'B'])\n",
        "    :param goal: List representing the goal state (e.g., ['D', 'C', 'B', 'A'])\n",
        "    :return: Heuristic value of the state\n",
        "    \"\"\"\n",
        "    heuristic = 0\n",
        "\n",
        "    for i in range(len(start)):\n",
        "        # Compare each block in the support structure\n",
        "        for j in range(i + 1):\n",
        "            if start[j] == goal[j]:\n",
        "                heuristic += 1  # Correct block and its support\n",
        "            else:\n",
        "                heuristic -= 1  # Incorrect block and its support\n",
        "\n",
        "    return heuristic\n",
        "\n",
        "# Example usage\n",
        "if __name__ == \"__main__\":\n",
        "    # Start state (top to bottom of the stack)\n",
        "    start_state = ['A', 'D', 'C', 'B']\n",
        "\n",
        "    # Goal state (top to bottom of the stack)\n",
        "    goal_state = ['D', 'C', 'B', 'A']\n",
        "\n",
        "    heuristic_value = calculate_heuristic(start_state, goal_state)\n",
        "    print(f\"Heuristic value of the given states: {heuristic_value}\")\n"
      ]
    }
  ]
}