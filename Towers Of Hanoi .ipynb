{
  "nbformat": 4,
  "nbformat_minor": 0,
  "metadata": {
    "colab": {
      "provenance": [],
      "authorship_tag": "ABX9TyMeVL4B0rwHYZoKF/FzIB8Y",
      "include_colab_link": true
    },
    "kernelspec": {
      "name": "python3",
      "display_name": "Python 3"
    },
    "language_info": {
      "name": "python"
    }
  },
  "cells": [
    {
      "cell_type": "markdown",
      "metadata": {
        "id": "view-in-github",
        "colab_type": "text"
      },
      "source": [
        "<a href=\"https://colab.research.google.com/github/bijayan/AI-Lab-Assignments/blob/main/Towers%20Of%20Hanoi%20.ipynb\" target=\"_parent\"><img src=\"https://colab.research.google.com/assets/colab-badge.svg\" alt=\"Open In Colab\"/></a>"
      ]
    },
    {
      "cell_type": "code",
      "execution_count": 4,
      "metadata": {
        "colab": {
          "base_uri": "https://localhost:8080/"
        },
        "id": "qXfACf2o2dCF",
        "outputId": "726bf846-daca-466a-fee6-065d8fd1acec"
      },
      "outputs": [
        {
          "output_type": "stream",
          "name": "stdout",
          "text": [
            "Solving Towers of Hanoi for 4 disks:\n",
            "Move disk 1 from Source to Auxiliary\n",
            "Move disk 2 from Source to Target\n",
            "Move disk 1 from Auxiliary to Target\n",
            "Move disk 3 from Source to Auxiliary\n",
            "Move disk 1 from Target to Source\n",
            "Move disk 2 from Target to Auxiliary\n",
            "Move disk 1 from Source to Auxiliary\n",
            "Move disk 4 from Source to Target\n",
            "Move disk 1 from Auxiliary to Target\n",
            "Move disk 2 from Auxiliary to Source\n",
            "Move disk 1 from Target to Source\n",
            "Move disk 3 from Auxiliary to Target\n",
            "Move disk 1 from Source to Auxiliary\n",
            "Move disk 2 from Source to Target\n",
            "Move disk 1 from Auxiliary to Target\n"
          ]
        }
      ],
      "source": [
        "def towers_of_hanoi(n, source, target, auxiliary):\n",
        "    \"\"\"\n",
        "    Solve the Towers of Hanoi problem and print each step.\n",
        "\n",
        "    :param n: Number of disks\n",
        "    :param source: The source rod\n",
        "    :param target: The target rod\n",
        "    :param auxiliary: The auxiliary rod\n",
        "    \"\"\"\n",
        "    if n == 1:\n",
        "        # Base case: Only one disk, move it directly from source to target\n",
        "        print(f\"Move disk 1 from {source} to {target}\")\n",
        "        return\n",
        "\n",
        "    # Recursive case:\n",
        "    # Step 1: Move n-1 disks from source to auxiliary, using target as auxiliary\n",
        "    towers_of_hanoi(n - 1, source, auxiliary, target)\n",
        "\n",
        "    # Step 2: Move the nth disk from source to target\n",
        "    print(f\"Move disk {n} from {source} to {target}\")\n",
        "\n",
        "    # Step 3: Move the n-1 disks from auxiliary to target, using source as auxiliary\n",
        "    towers_of_hanoi(n - 1, auxiliary, target, source)\n",
        "\n",
        "# Example usage\n",
        "if __name__ == \"__main__\":\n",
        "    num_disks = 4  # Change this number for more or fewer disks\n",
        "    print(f\"Solving Towers of Hanoi for {num_disks} disks:\")\n",
        "    towers_of_hanoi(num_disks, \"Source\", \"Target\", \"Auxiliary\")\n"
      ]
    }
  ]
}