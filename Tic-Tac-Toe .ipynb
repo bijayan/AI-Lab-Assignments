{
  "nbformat": 4,
  "nbformat_minor": 0,
  "metadata": {
    "colab": {
      "provenance": [],
      "authorship_tag": "ABX9TyPrIAIsLtIpxrxz4ohO8XPK",
      "include_colab_link": true
    },
    "kernelspec": {
      "name": "python3",
      "display_name": "Python 3"
    },
    "language_info": {
      "name": "python"
    }
  },
  "cells": [
    {
      "cell_type": "markdown",
      "metadata": {
        "id": "view-in-github",
        "colab_type": "text"
      },
      "source": [
        "<a href=\"https://colab.research.google.com/github/bijayan/AI-Lab-Assignments/blob/main/Tic-Tac-Toe%20.ipynb\" target=\"_parent\"><img src=\"https://colab.research.google.com/assets/colab-badge.svg\" alt=\"Open In Colab\"/></a>"
      ]
    },
    {
      "cell_type": "code",
      "execution_count": 1,
      "metadata": {
        "colab": {
          "base_uri": "https://localhost:8080/"
        },
        "id": "T1RgK_yBB_JZ",
        "outputId": "d5c1ae78-cda0-4974-9b31-bdfed2d13505"
      },
      "outputs": [
        {
          "output_type": "stream",
          "name": "stdout",
          "text": [
            "Heuristic value of the board state: 3\n"
          ]
        }
      ],
      "source": [
        "def calculate_tic_tac_toe_heuristic(board, player, opponent):\n",
        "\n",
        "    def is_open_line(line):\n",
        "        \"\"\"Check if a line (row, column, or diagonal) is open for a player.\"\"\"\n",
        "        return all(cell == ' ' or cell == player for cell in line)\n",
        "\n",
        "    def is_open_line_opponent(line):\n",
        "        \"\"\"Check if a line (row, column, or diagonal) is open for the opponent.\"\"\"\n",
        "        return all(cell == ' ' or cell == opponent for cell in line)\n",
        "\n",
        "    rows = board\n",
        "    columns = [[board[r][c] for r in range(3)] for c in range(3)]\n",
        "    diagonals = [[board[i][i] for i in range(3)], [board[i][2 - i] for i in range(3)]]\n",
        "\n",
        "    all_lines = rows + columns + diagonals\n",
        "\n",
        "    player_open_lines = sum(1 for line in all_lines if is_open_line(line))\n",
        "    opponent_open_lines = sum(1 for line in all_lines if is_open_line_opponent(line))\n",
        "\n",
        "    heuristic = player_open_lines - opponent_open_lines\n",
        "\n",
        "    return heuristic\n",
        "\n",
        "# Example usage\n",
        "if __name__ == \"__main__\":\n",
        "    # Example Tic-Tac-Toe board\n",
        "    board_state = [\n",
        "        [' ', ' ', ' '],\n",
        "        [' ', ' ', ' '],\n",
        "        ['X', ' ', ' ']\n",
        "    ]\n",
        "\n",
        "    player_symbol = 'X'\n",
        "    opponent_symbol = 'O'\n",
        "\n",
        "    heuristic_value = calculate_tic_tac_toe_heuristic(board_state, player_symbol, opponent_symbol)\n",
        "    print(f\"Heuristic value of the board state: {heuristic_value}\")\n"
      ]
    }
  ]
}